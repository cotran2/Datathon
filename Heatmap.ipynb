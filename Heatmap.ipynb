{
  "cells": [
    {
      "metadata": {
        "_cell_guid": "7c7e90cd-076d-91f4-e6ac-c31c5700f479",
        "_uuid": "b919cbb6b05bd7f02aec8753200861288edabd58",
        "trusted": false,
        "collapsed": true
      },
      "cell_type": "code",
      "source": "import pandas as pd\nimport seaborn as sns\nimport matplotlib.pyplot as plt\nfrom mpl_toolkits.basemap import Basemap\nfrom matplotlib import cm",
      "execution_count": null,
      "outputs": []
    },
    {
      "metadata": {
        "_cell_guid": "be2783ab-dd7d-a5f6-ac3c-5c23a017efbc",
        "_uuid": "231d2bf0baa8680673b7d62a551934fb3e949377",
        "trusted": false,
        "collapsed": true
      },
      "cell_type": "code",
      "source": "%matplotlib inline",
      "execution_count": null,
      "outputs": []
    },
    {
      "metadata": {
        "_cell_guid": "41e380fc-021a-5a5b-2c8c-3e09a6b6e27c",
        "_uuid": "5fadaef6a5acf65549c97155714ffa378d27ce3d",
        "trusted": false,
        "collapsed": true
      },
      "cell_type": "code",
      "source": "DATA_FILE = '../input/uber-raw-data-aug14.csv'\nuber_data = pd.read_csv(DATA_FILE)\nuber_data.head()",
      "execution_count": null,
      "outputs": []
    },
    {
      "metadata": {
        "_cell_guid": "fa9b7350-6a6f-f620-e2ac-63f5b1e9ebc7",
        "_uuid": "d7d2a7f0b80db1fca6b1ac1bddc2677a40c7f018",
        "trusted": false,
        "collapsed": true
      },
      "cell_type": "code",
      "source": "uber_data.info()",
      "execution_count": null,
      "outputs": []
    },
    {
      "metadata": {
        "_cell_guid": "19195a4c-8df7-c83f-e3c1-a21c95cefab8",
        "_uuid": "2ccb6d00257434eed6690231cba374c48950dc24",
        "trusted": false,
        "collapsed": true
      },
      "cell_type": "code",
      "source": "uber_data['Date/Time'] = pd.to_datetime(uber_data['Date/Time'], format=\"%m/%d/%Y %H:%M:%S\")\nuber_data['DayOfWeekNum'] = uber_data['Date/Time'].dt.dayofweek\nuber_data['DayOfWeek'] = uber_data['Date/Time'].dt.weekday_name\nuber_data['MonthDayNum'] = uber_data['Date/Time'].dt.day\nuber_data['HourOfDay'] = uber_data['Date/Time'].dt.hour",
      "execution_count": null,
      "outputs": []
    },
    {
      "metadata": {
        "_cell_guid": "7ea071f7-dba3-6333-dfa1-fddaa885dd4a",
        "_uuid": "5b2d58d74c78152f8021f52c6f6e22dd510bd833",
        "trusted": false,
        "collapsed": true
      },
      "cell_type": "code",
      "source": "uber_weekdays = uber_data.pivot_table(index=['DayOfWeekNum','DayOfWeek'],\n                                  values='Base',\n                                  aggfunc='count')\nuber_weekdays.plot(kind='bar', figsize=(8,6))\nplt.ylabel('Total Journeys')\nplt.title('Journeys by Week Day');",
      "execution_count": null,
      "outputs": []
    },
    {
      "metadata": {
        "_cell_guid": "a409c3b3-6eb5-dbbd-19dd-c3ff15ed108d",
        "_uuid": "25e17860b886ca8e2a84f914f977f39cd932631d",
        "trusted": false,
        "collapsed": true
      },
      "cell_type": "code",
      "source": "uber_monthdays = uber_data.pivot_table(index=['MonthDayNum'],\n                                  values='Base',\n                                  aggfunc='count')\nuber_monthdays.plot(kind='bar', figsize=(8,6))\nplt.ylabel('Total Journeys')\nplt.title('Journeys by Month Day');",
      "execution_count": null,
      "outputs": []
    },
    {
      "metadata": {
        "_cell_guid": "162264be-bb76-64c9-a01e-f3aaa8b53965",
        "_uuid": "bf058b5a2f69bed80bd1b22a63ee64d5aee8bf2a",
        "trusted": false,
        "collapsed": true
      },
      "cell_type": "code",
      "source": "uber_hour = uber_data.pivot_table(index=['HourOfDay'],\n                                  values='Base',\n                                  aggfunc='count')\nuber_hour.plot(kind='bar', figsize=(8,6))\nplt.ylabel('Total Journeys')\nplt.title('Journeys by Hour');",
      "execution_count": null,
      "outputs": []
    },
    {
      "metadata": {
        "_cell_guid": "3ef58b43-3008-e8d9-0e79-3b22945b5e14",
        "_uuid": "769e1d5c2a6afd7927640f0bb8d6f746933d0ab4",
        "trusted": false,
        "collapsed": true
      },
      "cell_type": "code",
      "source": "west, south, east, north = -74.26, 40.50, -73.70, 40.92\n\nfig = plt.figure(figsize=(14,10))\nax = fig.add_subplot(111)\nm = Basemap(projection='merc', llcrnrlat=south, urcrnrlat=north,\n            llcrnrlon=west, urcrnrlon=east, lat_ts=south, resolution='i')\nx, y = m(uber_data['Lon'].values, uber_data['Lat'].values)\nm.hexbin(x, y, gridsize=1000,\n         bins='log', cmap=cm.YlOrRd_r);",
      "execution_count": null,
      "outputs": []
    }
  ],
  "metadata": {
    "_change_revision": 0,
    "language_info": {
      "name": "python",
      "nbconvert_exporter": "python",
      "codemirror_mode": {
        "name": "ipython",
        "version": 3
      },
      "version": "3.5.2",
      "pygments_lexer": "ipython3",
      "mimetype": "text/x-python",
      "file_extension": ".py"
    },
    "kernelspec": {
      "display_name": "Python 3",
      "language": "python",
      "name": "python3"
    },
    "_is_fork": false
  },
  "nbformat": 4,
  "nbformat_minor": 1
}