{
 "cells": [
  {
   "cell_type": "code",
   "execution_count": 1,
   "metadata": {},
   "outputs": [
    {
     "name": "stderr",
     "output_type": "stream",
     "text": [
      "C:\\Users\\ASUS\\Anaconda3\\lib\\site-packages\\sklearn\\cross_validation.py:41: DeprecationWarning: This module was deprecated in version 0.18 in favor of the model_selection module into which all the refactored classes and functions are moved. Also note that the interface of the new CV iterators are different from that of this module. This module will be removed in 0.20.\n",
      "  \"This module will be removed in 0.20.\", DeprecationWarning)\n"
     ]
    }
   ],
   "source": [
    "import pandas as pd\n",
    "import numpy as np\n",
    "import re\n",
    "import sklearn\n",
    "import xgboost as xgb\n",
    "import seaborn as sns\n",
    "import matplotlib.pyplot as plt\n",
    "%matplotlib inline\n",
    "\n",
    "\n",
    "import warnings\n",
    "warnings.filterwarnings('ignore')\n",
    "\n",
    "# Going to use these 5 base models for the stacking\n",
    "from sklearn.ensemble import RandomForestClassifier, AdaBoostClassifier, GradientBoostingClassifier, ExtraTreesClassifier\n",
    "from sklearn.svm import SVC\n",
    "from sklearn.cross_validation import KFold;\n",
    "from sklearn import svm, tree, linear_model, neighbors, naive_bayes, ensemble, discriminant_analysis, gaussian_process\n",
    "from xgboost import XGBClassifier\n",
    "\n",
    "#Common Model Helpers\n",
    "from sklearn.preprocessing import OneHotEncoder, LabelEncoder\n",
    "from sklearn import feature_selection\n",
    "from sklearn import model_selection\n",
    "from sklearn import metrics\n",
    "\n",
    "#Visualization\n",
    "import matplotlib as mpl\n",
    "import matplotlib.pyplot as plt\n",
    "import matplotlib.pylab as pylab\n",
    "import seaborn as sns\n",
    "from pandas.tools.plotting import scatter_matrix\n"
   ]
  },
  {
   "cell_type": "code",
   "execution_count": 2,
   "metadata": {
    "collapsed": true
   },
   "outputs": [],
   "source": [
    "df = pd.read_csv(r'D:\\Documents\\ML\\Uber\\NYPD_Motor_Vehicle_Collisions.csv')"
   ]
  },
  {
   "cell_type": "code",
   "execution_count": 19,
   "metadata": {},
   "outputs": [
    {
     "data": {
      "text/html": [
       "<div>\n",
       "<style>\n",
       "    .dataframe thead tr:only-child th {\n",
       "        text-align: right;\n",
       "    }\n",
       "\n",
       "    .dataframe thead th {\n",
       "        text-align: left;\n",
       "    }\n",
       "\n",
       "    .dataframe tbody tr th {\n",
       "        vertical-align: top;\n",
       "    }\n",
       "</style>\n",
       "<table border=\"1\" class=\"dataframe\">\n",
       "  <thead>\n",
       "    <tr style=\"text-align: right;\">\n",
       "      <th></th>\n",
       "      <th>DATE</th>\n",
       "      <th>TIME</th>\n",
       "      <th>BOROUGH</th>\n",
       "      <th>ZIP CODE</th>\n",
       "      <th>LATITUDE</th>\n",
       "      <th>LONGITUDE</th>\n",
       "      <th>LOCATION</th>\n",
       "      <th>ON STREET NAME</th>\n",
       "      <th>CROSS STREET NAME</th>\n",
       "      <th>OFF STREET NAME</th>\n",
       "      <th>...</th>\n",
       "      <th>VEHICLE TYPE CODE 1</th>\n",
       "      <th>VEHICLE TYPE CODE 2</th>\n",
       "      <th>VEHICLE TYPE CODE 3</th>\n",
       "      <th>VEHICLE TYPE CODE 4</th>\n",
       "      <th>VEHICLE TYPE CODE 5</th>\n",
       "      <th>Date/Time</th>\n",
       "      <th>DayOfWeekNum</th>\n",
       "      <th>DayOfWeek</th>\n",
       "      <th>MonthDayNum</th>\n",
       "      <th>HourOfDay</th>\n",
       "    </tr>\n",
       "  </thead>\n",
       "  <tbody>\n",
       "    <tr>\n",
       "      <th>0</th>\n",
       "      <td>02/06/2018</td>\n",
       "      <td>0:00</td>\n",
       "      <td>BRONX</td>\n",
       "      <td>10460</td>\n",
       "      <td>40.834915</td>\n",
       "      <td>-73.894135</td>\n",
       "      <td>(40.834915, -73.894135)</td>\n",
       "      <td>BOSTON ROAD</td>\n",
       "      <td>WILKENS AVENUE</td>\n",
       "      <td>NaN</td>\n",
       "      <td>...</td>\n",
       "      <td>PASSENGER VEHICLE</td>\n",
       "      <td>SPORT UTILITY / STATION WAGON</td>\n",
       "      <td>NaN</td>\n",
       "      <td>NaN</td>\n",
       "      <td>NaN</td>\n",
       "      <td>2018-02-06</td>\n",
       "      <td>1</td>\n",
       "      <td>Tuesday</td>\n",
       "      <td>6</td>\n",
       "      <td>0</td>\n",
       "    </tr>\n",
       "    <tr>\n",
       "      <th>1</th>\n",
       "      <td>02/06/2018</td>\n",
       "      <td>0:00</td>\n",
       "      <td>BRONX</td>\n",
       "      <td>10460</td>\n",
       "      <td>40.835773</td>\n",
       "      <td>-73.893074</td>\n",
       "      <td>(40.835773, -73.893074)</td>\n",
       "      <td>NaN</td>\n",
       "      <td>NaN</td>\n",
       "      <td>1601      CHARLOTTE STREET</td>\n",
       "      <td>...</td>\n",
       "      <td>SPORT UTILITY / STATION WAGON</td>\n",
       "      <td>SPORT UTILITY / STATION WAGON</td>\n",
       "      <td>NaN</td>\n",
       "      <td>NaN</td>\n",
       "      <td>NaN</td>\n",
       "      <td>2018-02-06</td>\n",
       "      <td>1</td>\n",
       "      <td>Tuesday</td>\n",
       "      <td>6</td>\n",
       "      <td>0</td>\n",
       "    </tr>\n",
       "    <tr>\n",
       "      <th>2</th>\n",
       "      <td>02/06/2018</td>\n",
       "      <td>0:00</td>\n",
       "      <td>BRONX</td>\n",
       "      <td>10463</td>\n",
       "      <td>40.878723</td>\n",
       "      <td>-73.916824</td>\n",
       "      <td>(40.878723, -73.916824)</td>\n",
       "      <td>NaN</td>\n",
       "      <td>NaN</td>\n",
       "      <td>568       KAPPOCK STREET</td>\n",
       "      <td>...</td>\n",
       "      <td>PASSENGER VEHICLE</td>\n",
       "      <td>SPORT UTILITY / STATION WAGON</td>\n",
       "      <td>NaN</td>\n",
       "      <td>NaN</td>\n",
       "      <td>NaN</td>\n",
       "      <td>2018-02-06</td>\n",
       "      <td>1</td>\n",
       "      <td>Tuesday</td>\n",
       "      <td>6</td>\n",
       "      <td>0</td>\n",
       "    </tr>\n",
       "    <tr>\n",
       "      <th>3</th>\n",
       "      <td>02/06/2018</td>\n",
       "      <td>0:00</td>\n",
       "      <td>BROOKLYN</td>\n",
       "      <td>11213</td>\n",
       "      <td>40.667892</td>\n",
       "      <td>-73.936770</td>\n",
       "      <td>(40.667892, -73.93677)</td>\n",
       "      <td>NaN</td>\n",
       "      <td>NaN</td>\n",
       "      <td>311       TROY AVENUE</td>\n",
       "      <td>...</td>\n",
       "      <td>SPORT UTILITY / STATION WAGON</td>\n",
       "      <td>PASSENGER VEHICLE</td>\n",
       "      <td>NaN</td>\n",
       "      <td>NaN</td>\n",
       "      <td>NaN</td>\n",
       "      <td>2018-02-06</td>\n",
       "      <td>1</td>\n",
       "      <td>Tuesday</td>\n",
       "      <td>6</td>\n",
       "      <td>0</td>\n",
       "    </tr>\n",
       "    <tr>\n",
       "      <th>4</th>\n",
       "      <td>02/06/2018</td>\n",
       "      <td>0:00</td>\n",
       "      <td>QUEENS</td>\n",
       "      <td>11361</td>\n",
       "      <td>40.757760</td>\n",
       "      <td>-73.783400</td>\n",
       "      <td>(40.75776, -73.7834)</td>\n",
       "      <td>NORTHERN BOULEVARD</td>\n",
       "      <td>FRANCIS LEWIS BOULEVARD</td>\n",
       "      <td>NaN</td>\n",
       "      <td>...</td>\n",
       "      <td>SPORT UTILITY / STATION WAGON</td>\n",
       "      <td>PASSENGER VEHICLE</td>\n",
       "      <td>NaN</td>\n",
       "      <td>NaN</td>\n",
       "      <td>NaN</td>\n",
       "      <td>2018-02-06</td>\n",
       "      <td>1</td>\n",
       "      <td>Tuesday</td>\n",
       "      <td>6</td>\n",
       "      <td>0</td>\n",
       "    </tr>\n",
       "    <tr>\n",
       "      <th>5</th>\n",
       "      <td>02/06/2018</td>\n",
       "      <td>0:00</td>\n",
       "      <td>QUEENS</td>\n",
       "      <td>11366</td>\n",
       "      <td>40.719950</td>\n",
       "      <td>-73.808900</td>\n",
       "      <td>(40.71995, -73.8089)</td>\n",
       "      <td>NaN</td>\n",
       "      <td>NaN</td>\n",
       "      <td>158-02    UNION TURNPIKE</td>\n",
       "      <td>...</td>\n",
       "      <td>SPORT UTILITY / STATION WAGON</td>\n",
       "      <td>PASSENGER VEHICLE</td>\n",
       "      <td>NaN</td>\n",
       "      <td>NaN</td>\n",
       "      <td>NaN</td>\n",
       "      <td>2018-02-06</td>\n",
       "      <td>1</td>\n",
       "      <td>Tuesday</td>\n",
       "      <td>6</td>\n",
       "      <td>0</td>\n",
       "    </tr>\n",
       "    <tr>\n",
       "      <th>6</th>\n",
       "      <td>02/06/2018</td>\n",
       "      <td>0:00</td>\n",
       "      <td>QUEENS</td>\n",
       "      <td>11433</td>\n",
       "      <td>40.702473</td>\n",
       "      <td>-73.799930</td>\n",
       "      <td>(40.702473, -73.79993)</td>\n",
       "      <td>PARSONS BOULEVARD</td>\n",
       "      <td>ARCHER AVENUE</td>\n",
       "      <td>NaN</td>\n",
       "      <td>...</td>\n",
       "      <td>PASSENGER VEHICLE</td>\n",
       "      <td>NaN</td>\n",
       "      <td>NaN</td>\n",
       "      <td>NaN</td>\n",
       "      <td>NaN</td>\n",
       "      <td>2018-02-06</td>\n",
       "      <td>1</td>\n",
       "      <td>Tuesday</td>\n",
       "      <td>6</td>\n",
       "      <td>0</td>\n",
       "    </tr>\n",
       "    <tr>\n",
       "      <th>7</th>\n",
       "      <td>02/06/2018</td>\n",
       "      <td>0:00</td>\n",
       "      <td>QUEENS</td>\n",
       "      <td>11433</td>\n",
       "      <td>40.704860</td>\n",
       "      <td>-73.784130</td>\n",
       "      <td>(40.70486, -73.78413)</td>\n",
       "      <td>NaN</td>\n",
       "      <td>NaN</td>\n",
       "      <td>175-16    LIBERTY AVENUE</td>\n",
       "      <td>...</td>\n",
       "      <td>TK</td>\n",
       "      <td>PASSENGER VEHICLE</td>\n",
       "      <td>NaN</td>\n",
       "      <td>NaN</td>\n",
       "      <td>NaN</td>\n",
       "      <td>2018-02-06</td>\n",
       "      <td>1</td>\n",
       "      <td>Tuesday</td>\n",
       "      <td>6</td>\n",
       "      <td>0</td>\n",
       "    </tr>\n",
       "    <tr>\n",
       "      <th>8</th>\n",
       "      <td>02/06/2018</td>\n",
       "      <td>0:00</td>\n",
       "      <td>NaN</td>\n",
       "      <td>NaN</td>\n",
       "      <td>40.699930</td>\n",
       "      <td>-73.961880</td>\n",
       "      <td>(40.69993, -73.96188)</td>\n",
       "      <td>BROOKLYN QUEENS EXPRESSWAY</td>\n",
       "      <td>NaN</td>\n",
       "      <td>NaN</td>\n",
       "      <td>...</td>\n",
       "      <td>PICK-UP TRUCK</td>\n",
       "      <td>NaN</td>\n",
       "      <td>NaN</td>\n",
       "      <td>NaN</td>\n",
       "      <td>NaN</td>\n",
       "      <td>2018-02-06</td>\n",
       "      <td>1</td>\n",
       "      <td>Tuesday</td>\n",
       "      <td>6</td>\n",
       "      <td>0</td>\n",
       "    </tr>\n",
       "    <tr>\n",
       "      <th>9</th>\n",
       "      <td>02/06/2018</td>\n",
       "      <td>0:00</td>\n",
       "      <td>NaN</td>\n",
       "      <td>NaN</td>\n",
       "      <td>40.681137</td>\n",
       "      <td>-73.955670</td>\n",
       "      <td>(40.681137, -73.95567)</td>\n",
       "      <td>FULTON STREET</td>\n",
       "      <td>NaN</td>\n",
       "      <td>NaN</td>\n",
       "      <td>...</td>\n",
       "      <td>PASSENGER VEHICLE</td>\n",
       "      <td>SPORT UTILITY / STATION WAGON</td>\n",
       "      <td>NaN</td>\n",
       "      <td>NaN</td>\n",
       "      <td>NaN</td>\n",
       "      <td>2018-02-06</td>\n",
       "      <td>1</td>\n",
       "      <td>Tuesday</td>\n",
       "      <td>6</td>\n",
       "      <td>0</td>\n",
       "    </tr>\n",
       "  </tbody>\n",
       "</table>\n",
       "<p>10 rows × 34 columns</p>\n",
       "</div>"
      ],
      "text/plain": [
       "         DATE  TIME   BOROUGH ZIP CODE   LATITUDE  LONGITUDE  \\\n",
       "0  02/06/2018  0:00     BRONX    10460  40.834915 -73.894135   \n",
       "1  02/06/2018  0:00     BRONX    10460  40.835773 -73.893074   \n",
       "2  02/06/2018  0:00     BRONX    10463  40.878723 -73.916824   \n",
       "3  02/06/2018  0:00  BROOKLYN    11213  40.667892 -73.936770   \n",
       "4  02/06/2018  0:00    QUEENS    11361  40.757760 -73.783400   \n",
       "5  02/06/2018  0:00    QUEENS    11366  40.719950 -73.808900   \n",
       "6  02/06/2018  0:00    QUEENS    11433  40.702473 -73.799930   \n",
       "7  02/06/2018  0:00    QUEENS    11433  40.704860 -73.784130   \n",
       "8  02/06/2018  0:00       NaN      NaN  40.699930 -73.961880   \n",
       "9  02/06/2018  0:00       NaN      NaN  40.681137 -73.955670   \n",
       "\n",
       "                  LOCATION                    ON STREET NAME  \\\n",
       "0  (40.834915, -73.894135)  BOSTON ROAD                        \n",
       "1  (40.835773, -73.893074)                               NaN   \n",
       "2  (40.878723, -73.916824)                               NaN   \n",
       "3   (40.667892, -73.93677)                               NaN   \n",
       "4     (40.75776, -73.7834)  NORTHERN BOULEVARD                 \n",
       "5     (40.71995, -73.8089)                               NaN   \n",
       "6   (40.702473, -73.79993)  PARSONS BOULEVARD                  \n",
       "7    (40.70486, -73.78413)                               NaN   \n",
       "8    (40.69993, -73.96188)  BROOKLYN QUEENS EXPRESSWAY         \n",
       "9   (40.681137, -73.95567)  FULTON STREET                      \n",
       "\n",
       "         CROSS STREET NAME                           OFF STREET NAME  \\\n",
       "0           WILKENS AVENUE                                       NaN   \n",
       "1                      NaN  1601      CHARLOTTE STREET                 \n",
       "2                      NaN  568       KAPPOCK STREET                   \n",
       "3                      NaN  311       TROY AVENUE                      \n",
       "4  FRANCIS LEWIS BOULEVARD                                       NaN   \n",
       "5                      NaN  158-02    UNION TURNPIKE                   \n",
       "6            ARCHER AVENUE                                       NaN   \n",
       "7                      NaN  175-16    LIBERTY AVENUE                   \n",
       "8                      NaN                                       NaN   \n",
       "9                      NaN                                       NaN   \n",
       "\n",
       "     ...               VEHICLE TYPE CODE 1            VEHICLE TYPE CODE 2  \\\n",
       "0    ...                 PASSENGER VEHICLE  SPORT UTILITY / STATION WAGON   \n",
       "1    ...     SPORT UTILITY / STATION WAGON  SPORT UTILITY / STATION WAGON   \n",
       "2    ...                 PASSENGER VEHICLE  SPORT UTILITY / STATION WAGON   \n",
       "3    ...     SPORT UTILITY / STATION WAGON              PASSENGER VEHICLE   \n",
       "4    ...     SPORT UTILITY / STATION WAGON              PASSENGER VEHICLE   \n",
       "5    ...     SPORT UTILITY / STATION WAGON              PASSENGER VEHICLE   \n",
       "6    ...                 PASSENGER VEHICLE                            NaN   \n",
       "7    ...                                TK              PASSENGER VEHICLE   \n",
       "8    ...                     PICK-UP TRUCK                            NaN   \n",
       "9    ...                 PASSENGER VEHICLE  SPORT UTILITY / STATION WAGON   \n",
       "\n",
       "   VEHICLE TYPE CODE 3  VEHICLE TYPE CODE 4  VEHICLE TYPE CODE 5  Date/Time  \\\n",
       "0                  NaN                  NaN                  NaN 2018-02-06   \n",
       "1                  NaN                  NaN                  NaN 2018-02-06   \n",
       "2                  NaN                  NaN                  NaN 2018-02-06   \n",
       "3                  NaN                  NaN                  NaN 2018-02-06   \n",
       "4                  NaN                  NaN                  NaN 2018-02-06   \n",
       "5                  NaN                  NaN                  NaN 2018-02-06   \n",
       "6                  NaN                  NaN                  NaN 2018-02-06   \n",
       "7                  NaN                  NaN                  NaN 2018-02-06   \n",
       "8                  NaN                  NaN                  NaN 2018-02-06   \n",
       "9                  NaN                  NaN                  NaN 2018-02-06   \n",
       "\n",
       "   DayOfWeekNum  DayOfWeek MonthDayNum HourOfDay  \n",
       "0             1    Tuesday           6         0  \n",
       "1             1    Tuesday           6         0  \n",
       "2             1    Tuesday           6         0  \n",
       "3             1    Tuesday           6         0  \n",
       "4             1    Tuesday           6         0  \n",
       "5             1    Tuesday           6         0  \n",
       "6             1    Tuesday           6         0  \n",
       "7             1    Tuesday           6         0  \n",
       "8             1    Tuesday           6         0  \n",
       "9             1    Tuesday           6         0  \n",
       "\n",
       "[10 rows x 34 columns]"
      ]
     },
     "execution_count": 19,
     "metadata": {},
     "output_type": "execute_result"
    }
   ],
   "source": [
    "df.head(10)"
   ]
  },
  {
   "cell_type": "code",
   "execution_count": 90,
   "metadata": {},
   "outputs": [],
   "source": [
    "df_copy['Month'] = df_copy['Date/Time'].dt.month"
   ]
  },
  {
   "cell_type": "code",
   "execution_count": 10,
   "metadata": {
    "collapsed": true
   },
   "outputs": [
    {
     "data": {
      "text/plain": [
       "391468      05/25/2016 7:37\n",
       "88347       09/18/2017 7:00\n",
       "266003     12/06/2016 21:15\n",
       "917444     12/03/2013 10:45\n",
       "1028277    05/24/2013 17:00\n",
       "256514     12/20/2016 13:25\n",
       "985079     08/06/2013 16:40\n",
       "914011     12/09/2013 12:40\n",
       "12887      01/14/2018 20:40\n",
       "184179     04/24/2017 12:18\n",
       "Name: Date/Time, dtype: object"
      ]
     },
     "execution_count": 10,
     "metadata": {},
     "output_type": "execute_result"
    }
   ],
   "source": [
    "df['Date/Time'].sample(10)\n",
    "\n",
    "df['Date/Time'] = pd.to_datetime(df['Date/Time'], format=\"%m/%d/%Y %H:%M\")\n",
    "df['DayOfWeekNum'] = df['Date/Time'].dt.dayofweek\n",
    "df['DayOfWeek'] = df['Date/Time'].dt.weekday_name\n",
    "df['MonthDayNum'] = df['Date/Time'].dt.day\n",
    "df['HourOfDay'] = df['Date/Time'].dt.hour"
   ]
  },
  {
   "cell_type": "code",
   "execution_count": 61,
   "metadata": {},
   "outputs": [
    {
     "data": {
      "image/png": "[encoded data removed]",
      "text/plain": [
       "<matplotlib.figure.Figure at 0x20780256d30>"
      ]
     },
     "metadata": {},
     "output_type": "display_data"
    }
   ],
   "source": [
    "df_weekdays = df.pivot_table(index=['DayOfWeekNum','DayOfWeek'],\n",
    "                                    values = 'BOROUGH',\n",
    "                                  aggfunc='count')\n",
    "df_weekdays.plot(kind='bar', figsize=(8,6),stacked=True, color=color)\n",
    "plt.ylabel('Total Accidents')\n",
    "plt.title('Accidents by Week Day');"
   ]
  },
  {
   "cell_type": "code",
   "execution_count": 18,
   "metadata": {},
   "outputs": [
    {
     "data": {
      "image/png": "[encoded data removed]",
      "text/plain": [
       "<matplotlib.figure.Figure at 0x207a415f780>"
      ]
     },
     "metadata": {},
     "output_type": "display_data"
    }
   ],
   "source": [
    "ax = sns.countplot(x=\"DayOfWeekNum\", data=df)"
   ]
  },
  {
   "cell_type": "code",
   "execution_count": 38,
   "metadata": {},
   "outputs": [],
   "source": [
    "df_copy = df[(df['Year']==2014) | (df['Year']==2015)]"
   ]
  },
  {
   "cell_type": "code",
   "execution_count": 40,
   "metadata": {},
   "outputs": [
    {
     "name": "stdout",
     "output_type": "stream",
     "text": [
      "<class 'pandas.core.frame.DataFrame'>\n",
      "Int64Index: 423678 entries, 398598 to 901659\n",
      "Data columns (total 35 columns):\n",
      "DATE                             423678 non-null object\n",
      "TIME                             423678 non-null object\n",
      "BOROUGH                          319778 non-null object\n",
      "ZIP CODE                         319756 non-null object\n",
      "LATITUDE                         355646 non-null float64\n",
      "LONGITUDE                        355646 non-null float64\n",
      "LOCATION                         355646 non-null object\n",
      "ON STREET NAME                   359571 non-null object\n",
      "CROSS STREET NAME                359551 non-null object\n",
      "OFF STREET NAME                  14318 non-null object\n",
      "NUMBER OF PERSONS INJURED        423678 non-null int64\n",
      "NUMBER OF PERSONS KILLED         423678 non-null int64\n",
      "NUMBER OF PEDESTRIANS INJURED    423678 non-null int64\n",
      "NUMBER OF PEDESTRIANS KILLED     423678 non-null int64\n",
      "NUMBER OF CYCLIST INJURED        423678 non-null int64\n",
      "NUMBER OF CYCLIST KILLED         423678 non-null int64\n",
      "NUMBER OF MOTORIST INJURED       423678 non-null int64\n",
      "NUMBER OF MOTORIST KILLED        423678 non-null int64\n",
      "CONTRIBUTING FACTOR VEHICLE 1    422406 non-null object\n",
      "CONTRIBUTING FACTOR VEHICLE 2    370526 non-null object\n",
      "CONTRIBUTING FACTOR VEHICLE 3    26835 non-null object\n",
      "CONTRIBUTING FACTOR VEHICLE 4    5494 non-null object\n",
      "CONTRIBUTING FACTOR VEHICLE 5    1394 non-null object\n",
      "UNIQUE KEY                       423678 non-null int64\n",
      "VEHICLE TYPE CODE 1              422851 non-null object\n",
      "VEHICLE TYPE CODE 2              379496 non-null object\n",
      "VEHICLE TYPE CODE 3              26917 non-null object\n",
      "VEHICLE TYPE CODE 4              5499 non-null object\n",
      "VEHICLE TYPE CODE 5              1390 non-null object\n",
      "Date/Time                        423678 non-null datetime64[ns]\n",
      "DayOfWeekNum                     423678 non-null int64\n",
      "DayOfWeek                        423678 non-null object\n",
      "MonthDayNum                      423678 non-null int64\n",
      "HourOfDay                        423678 non-null int64\n",
      "Year                             423678 non-null int64\n",
      "dtypes: datetime64[ns](1), float64(2), int64(13), object(19)\n",
      "memory usage: 116.4+ MB\n"
     ]
    }
   ],
   "source": [
    "df_copy.info()"
   ]
  },
  {
   "cell_type": "code",
   "execution_count": 41,
   "metadata": {
    "scrolled": true
   },
   "outputs": [
    {
     "data": {
      "text/plain": [
       "871710    1\n",
       "759629    1\n",
       "877475    0\n",
       "743989    0\n",
       "855130    0\n",
       "610605    0\n",
       "666540    0\n",
       "866204    4\n",
       "513735    0\n",
       "841111    0\n",
       "Name: NUMBER OF PERSONS INJURED, dtype: int64"
      ]
     },
     "execution_count": 41,
     "metadata": {},
     "output_type": "execute_result"
    }
   ],
   "source": [
    "df_copy['NUMBER OF PERSONS INJURED'].sample(10)"
   ]
  },
  {
   "cell_type": "code",
   "execution_count": 43,
   "metadata": {},
   "outputs": [
    {
     "data": {
      "text/plain": [
       "DayOfWeekNum\n",
       "0    0.250562\n",
       "1    0.245557\n",
       "2    0.245613\n",
       "3    0.243704\n",
       "4    0.247440\n",
       "5    0.276841\n",
       "6    0.295919\n",
       "Name: NUMBER OF PERSONS INJURED, dtype: float64"
      ]
     },
     "execution_count": 43,
     "metadata": {},
     "output_type": "execute_result"
    }
   ],
   "source": [
    "df_copy.groupby(['DayOfWeekNum'])['NUMBER OF PERSONS INJURED'].mean()"
   ]
  },
  {
   "cell_type": "code",
   "execution_count": 94,
   "metadata": {},
   "outputs": [
    {
     "ename": "KeyError",
     "evalue": "'HOurOfDay'",
     "output_type": "error",
     "traceback": [
      "\u001b[1;31m---------------------------------------------------------------------------\u001b[0m",
      "\u001b[1;31mKeyError\u001b[0m                                  Traceback (most recent call last)",
      "\u001b[1;32m<ipython-input-94-ae4d99d64e13>\u001b[0m in \u001b[0;36m<module>\u001b[1;34m()\u001b[0m\n\u001b[0;32m      1\u001b[0m df_copy_monthdays = df_copy.pivot_table(index=['HOurOfDay'],\n\u001b[0;32m      2\u001b[0m                                   \u001b[0mvalues\u001b[0m\u001b[1;33m=\u001b[0m\u001b[1;34m'NUMBER OF PERSONS INJURED'\u001b[0m\u001b[1;33m,\u001b[0m\u001b[1;33m\u001b[0m\u001b[0m\n\u001b[1;32m----> 3\u001b[1;33m                                   aggfunc='count')\n\u001b[0m\u001b[0;32m      4\u001b[0m \u001b[0mdf_copy_monthdays\u001b[0m\u001b[1;33m.\u001b[0m\u001b[0mplot\u001b[0m\u001b[1;33m(\u001b[0m\u001b[0mkind\u001b[0m\u001b[1;33m=\u001b[0m\u001b[1;34m'bar'\u001b[0m\u001b[1;33m,\u001b[0m \u001b[0mfigsize\u001b[0m\u001b[1;33m=\u001b[0m\u001b[1;33m(\u001b[0m\u001b[1;36m8\u001b[0m\u001b[1;33m,\u001b[0m\u001b[1;36m6\u001b[0m\u001b[1;33m)\u001b[0m\u001b[1;33m,\u001b[0m \u001b[0mcolor\u001b[0m\u001b[1;33m=\u001b[0m\u001b[0mcolor\u001b[0m\u001b[1;33m)\u001b[0m\u001b[1;33m\u001b[0m\u001b[0m\n\u001b[0;32m      5\u001b[0m \u001b[0mplt\u001b[0m\u001b[1;33m.\u001b[0m\u001b[0mylabel\u001b[0m\u001b[1;33m(\u001b[0m\u001b[1;34m'Total Journeys'\u001b[0m\u001b[1;33m)\u001b[0m\u001b[1;33m\u001b[0m\u001b[0m\n",
      "\u001b[1;32m~\\Anaconda3\\lib\\site-packages\\pandas\\core\\reshape\\pivot.py\u001b[0m in \u001b[0;36mpivot_table\u001b[1;34m(data, values, index, columns, aggfunc, fill_value, margins, dropna, margins_name)\u001b[0m\n\u001b[0;32m    133\u001b[0m         \u001b[0mvalues\u001b[0m \u001b[1;33m=\u001b[0m \u001b[0mlist\u001b[0m\u001b[1;33m(\u001b[0m\u001b[0mvalues\u001b[0m\u001b[1;33m)\u001b[0m\u001b[1;33m\u001b[0m\u001b[0m\n\u001b[0;32m    134\u001b[0m \u001b[1;33m\u001b[0m\u001b[0m\n\u001b[1;32m--> 135\u001b[1;33m     \u001b[0mgrouped\u001b[0m \u001b[1;33m=\u001b[0m \u001b[0mdata\u001b[0m\u001b[1;33m.\u001b[0m\u001b[0mgroupby\u001b[0m\u001b[1;33m(\u001b[0m\u001b[0mkeys\u001b[0m\u001b[1;33m)\u001b[0m\u001b[1;33m\u001b[0m\u001b[0m\n\u001b[0m\u001b[0;32m    136\u001b[0m     \u001b[0magged\u001b[0m \u001b[1;33m=\u001b[0m \u001b[0mgrouped\u001b[0m\u001b[1;33m.\u001b[0m\u001b[0magg\u001b[0m\u001b[1;33m(\u001b[0m\u001b[0maggfunc\u001b[0m\u001b[1;33m)\u001b[0m\u001b[1;33m\u001b[0m\u001b[0m\n\u001b[0;32m    137\u001b[0m \u001b[1;33m\u001b[0m\u001b[0m\n",
      "\u001b[1;32m~\\Anaconda3\\lib\\site-packages\\pandas\\core\\generic.py\u001b[0m in \u001b[0;36mgroupby\u001b[1;34m(self, by, axis, level, as_index, sort, group_keys, squeeze, **kwargs)\u001b[0m\n\u001b[0;32m   4414\u001b[0m         return groupby(self, by=by, axis=axis, level=level, as_index=as_index,\n\u001b[0;32m   4415\u001b[0m                        \u001b[0msort\u001b[0m\u001b[1;33m=\u001b[0m\u001b[0msort\u001b[0m\u001b[1;33m,\u001b[0m \u001b[0mgroup_keys\u001b[0m\u001b[1;33m=\u001b[0m\u001b[0mgroup_keys\u001b[0m\u001b[1;33m,\u001b[0m \u001b[0msqueeze\u001b[0m\u001b[1;33m=\u001b[0m\u001b[0msqueeze\u001b[0m\u001b[1;33m,\u001b[0m\u001b[1;33m\u001b[0m\u001b[0m\n\u001b[1;32m-> 4416\u001b[1;33m                        **kwargs)\n\u001b[0m\u001b[0;32m   4417\u001b[0m \u001b[1;33m\u001b[0m\u001b[0m\n\u001b[0;32m   4418\u001b[0m     def asfreq(self, freq, method=None, how=None, normalize=False,\n",
      "\u001b[1;32m~\\Anaconda3\\lib\\site-packages\\pandas\\core\\groupby.py\u001b[0m in \u001b[0;36mgroupby\u001b[1;34m(obj, by, **kwds)\u001b[0m\n\u001b[0;32m   1697\u001b[0m         \u001b[1;32mraise\u001b[0m \u001b[0mTypeError\u001b[0m\u001b[1;33m(\u001b[0m\u001b[1;34m'invalid type: %s'\u001b[0m \u001b[1;33m%\u001b[0m \u001b[0mtype\u001b[0m\u001b[1;33m(\u001b[0m\u001b[0mobj\u001b[0m\u001b[1;33m)\u001b[0m\u001b[1;33m)\u001b[0m\u001b[1;33m\u001b[0m\u001b[0m\n\u001b[0;32m   1698\u001b[0m \u001b[1;33m\u001b[0m\u001b[0m\n\u001b[1;32m-> 1699\u001b[1;33m     \u001b[1;32mreturn\u001b[0m \u001b[0mklass\u001b[0m\u001b[1;33m(\u001b[0m\u001b[0mobj\u001b[0m\u001b[1;33m,\u001b[0m \u001b[0mby\u001b[0m\u001b[1;33m,\u001b[0m \u001b[1;33m**\u001b[0m\u001b[0mkwds\u001b[0m\u001b[1;33m)\u001b[0m\u001b[1;33m\u001b[0m\u001b[0m\n\u001b[0m\u001b[0;32m   1700\u001b[0m \u001b[1;33m\u001b[0m\u001b[0m\n\u001b[0;32m   1701\u001b[0m \u001b[1;33m\u001b[0m\u001b[0m\n",
      "\u001b[1;32m~\\Anaconda3\\lib\\site-packages\\pandas\\core\\groupby.py\u001b[0m in \u001b[0;36m__init__\u001b[1;34m(self, obj, keys, axis, level, grouper, exclusions, selection, as_index, sort, group_keys, squeeze, **kwargs)\u001b[0m\n\u001b[0;32m    390\u001b[0m                                                     \u001b[0mlevel\u001b[0m\u001b[1;33m=\u001b[0m\u001b[0mlevel\u001b[0m\u001b[1;33m,\u001b[0m\u001b[1;33m\u001b[0m\u001b[0m\n\u001b[0;32m    391\u001b[0m                                                     \u001b[0msort\u001b[0m\u001b[1;33m=\u001b[0m\u001b[0msort\u001b[0m\u001b[1;33m,\u001b[0m\u001b[1;33m\u001b[0m\u001b[0m\n\u001b[1;32m--> 392\u001b[1;33m                                                     mutated=self.mutated)\n\u001b[0m\u001b[0;32m    393\u001b[0m \u001b[1;33m\u001b[0m\u001b[0m\n\u001b[0;32m    394\u001b[0m         \u001b[0mself\u001b[0m\u001b[1;33m.\u001b[0m\u001b[0mobj\u001b[0m \u001b[1;33m=\u001b[0m \u001b[0mobj\u001b[0m\u001b[1;33m\u001b[0m\u001b[0m\n",
      "\u001b[1;32m~\\Anaconda3\\lib\\site-packages\\pandas\\core\\groupby.py\u001b[0m in \u001b[0;36m_get_grouper\u001b[1;34m(obj, key, axis, level, sort, mutated)\u001b[0m\n\u001b[0;32m   2688\u001b[0m                 \u001b[0min_axis\u001b[0m\u001b[1;33m,\u001b[0m \u001b[0mname\u001b[0m\u001b[1;33m,\u001b[0m \u001b[0mlevel\u001b[0m\u001b[1;33m,\u001b[0m \u001b[0mgpr\u001b[0m \u001b[1;33m=\u001b[0m \u001b[1;32mFalse\u001b[0m\u001b[1;33m,\u001b[0m \u001b[1;32mNone\u001b[0m\u001b[1;33m,\u001b[0m \u001b[0mgpr\u001b[0m\u001b[1;33m,\u001b[0m \u001b[1;32mNone\u001b[0m\u001b[1;33m\u001b[0m\u001b[0m\n\u001b[0;32m   2689\u001b[0m             \u001b[1;32melse\u001b[0m\u001b[1;33m:\u001b[0m\u001b[1;33m\u001b[0m\u001b[0m\n\u001b[1;32m-> 2690\u001b[1;33m                 \u001b[1;32mraise\u001b[0m \u001b[0mKeyError\u001b[0m\u001b[1;33m(\u001b[0m\u001b[0mgpr\u001b[0m\u001b[1;33m)\u001b[0m\u001b[1;33m\u001b[0m\u001b[0m\n\u001b[0m\u001b[0;32m   2691\u001b[0m         \u001b[1;32melif\u001b[0m \u001b[0misinstance\u001b[0m\u001b[1;33m(\u001b[0m\u001b[0mgpr\u001b[0m\u001b[1;33m,\u001b[0m \u001b[0mGrouper\u001b[0m\u001b[1;33m)\u001b[0m \u001b[1;32mand\u001b[0m \u001b[0mgpr\u001b[0m\u001b[1;33m.\u001b[0m\u001b[0mkey\u001b[0m \u001b[1;32mis\u001b[0m \u001b[1;32mnot\u001b[0m \u001b[1;32mNone\u001b[0m\u001b[1;33m:\u001b[0m\u001b[1;33m\u001b[0m\u001b[0m\n\u001b[0;32m   2692\u001b[0m             \u001b[1;31m# Add key to exclusions\u001b[0m\u001b[1;33m\u001b[0m\u001b[1;33m\u001b[0m\u001b[0m\n",
      "\u001b[1;31mKeyError\u001b[0m: 'HOurOfDay'"
     ]
    }
   ],
   "source": [
    "df_copy_monthdays = df_copy.pivot_table(index=['HOurOfDay'],\n",
    "                                  values='NUMBER OF PERSONS INJURED',\n",
    "                                  aggfunc='count')\n",
    "df_copy_monthdays.plot(kind='bar', figsize=(8,6), color=color)\n",
    "plt.ylabel('Total Journeys')\n",
    "plt.title('Injured by Month Day');"
   ]
  },
  {
   "cell_type": "code",
   "execution_count": 93,
   "metadata": {},
   "outputs": [
    {
     "data": {
      "image/png": "[encoded data removed]",
      "text/plain": [
       "<matplotlib.figure.Figure at 0x2078193fc50>"
      ]
     },
     "metadata": {},
     "output_type": "display_data"
    }
   ],
   "source": [
    "df_copy_monthdays = df_copy.pivot_table(index=['Month'],\n",
    "                                  values='BOROUGH',\n",
    "                                  aggfunc='count')\n",
    "df_copy_monthdays.plot(kind='bar', figsize=(8,6),colormap = 'rainbow')\n",
    "plt.ylabel('Average')\n",
    "plt.title('Injured by Month Day');"
   ]
  },
  {
   "cell_type": "code",
   "execution_count": 87,
   "metadata": {},
   "outputs": [
    {
     "data": {
      "image/png": "[encoded data removed]",
      "text/plain": [
       "<matplotlib.figure.Figure at 0x20781b469e8>"
      ]
     },
     "metadata": {},
     "output_type": "display_data"
    }
   ],
   "source": [
    "df_copy_weekdays = df_copy.pivot_table(index=['DayOfWeekNum'],\n",
    "                                    values = 'NUMBER OF PERSONS INJURED',\n",
    "                                  aggfunc='mean')\n",
    "df_copy_weekdays.plot(kind='bar', figsize=(8,6),color='purple')\n",
    "plt.ylabel('Total Accidents')\n",
    "plt.title('Accidents by Week Day');"
   ]
  },
  {
   "cell_type": "code",
   "execution_count": 80,
   "metadata": {},
   "outputs": [
    {
     "ename": "ModuleNotFoundError",
     "evalue": "No module named 'mpl_toolkits.basemap'",
     "output_type": "error",
     "traceback": [
      "\u001b[1;31m---------------------------------------------------------------------------\u001b[0m",
      "\u001b[1;31mModuleNotFoundError\u001b[0m                       Traceback (most recent call last)",
      "\u001b[1;32m<ipython-input-80-25d1300f5260>\u001b[0m in \u001b[0;36m<module>\u001b[1;34m()\u001b[0m\n\u001b[0;32m      4\u001b[0m \u001b[1;32mimport\u001b[0m \u001b[0mmatplotlib\u001b[0m\u001b[1;33m.\u001b[0m\u001b[0mpyplot\u001b[0m \u001b[1;32mas\u001b[0m \u001b[0mplt\u001b[0m\u001b[1;33m\u001b[0m\u001b[0m\n\u001b[0;32m      5\u001b[0m \u001b[1;32mimport\u001b[0m \u001b[0mmpl_toolkits\u001b[0m\u001b[1;33m\u001b[0m\u001b[0m\n\u001b[1;32m----> 6\u001b[1;33m \u001b[1;32mfrom\u001b[0m \u001b[0mmpl_toolkits\u001b[0m\u001b[1;33m.\u001b[0m\u001b[0mbasemap\u001b[0m \u001b[1;32mimport\u001b[0m \u001b[0mBasemap\u001b[0m\u001b[1;33m\u001b[0m\u001b[0m\n\u001b[0m\u001b[0;32m      7\u001b[0m \u001b[1;32mfrom\u001b[0m \u001b[0mmatplotlib\u001b[0m \u001b[1;32mimport\u001b[0m \u001b[0mcm\u001b[0m\u001b[1;33m\u001b[0m\u001b[0m\n\u001b[0;32m      8\u001b[0m \u001b[0mfig\u001b[0m \u001b[1;33m=\u001b[0m \u001b[0mplt\u001b[0m\u001b[1;33m.\u001b[0m\u001b[0mfigure\u001b[0m\u001b[1;33m(\u001b[0m\u001b[0mfigsize\u001b[0m\u001b[1;33m=\u001b[0m\u001b[1;33m(\u001b[0m\u001b[1;36m14\u001b[0m\u001b[1;33m,\u001b[0m\u001b[1;36m10\u001b[0m\u001b[1;33m)\u001b[0m\u001b[1;33m)\u001b[0m\u001b[1;33m\u001b[0m\u001b[0m\n",
      "\u001b[1;31mModuleNotFoundError\u001b[0m: No module named 'mpl_toolkits.basemap'"
     ]
    }
   ],
   "source": [
    "west, south, east, north = -74.26, 40.50, -73.70, 40.92\n",
    "import pandas as pd\n",
    "import seaborn as sns\n",
    "import matplotlib.pyplot as plt\n",
    "import mpl_toolkits\n",
    "from mpl_toolkits.basemap import Basemap\n",
    "from matplotlib import cm\n",
    "fig = plt.figure(figsize=(14,10))\n",
    "ax = fig.add_subplot(111)\n",
    "m = Basemap(projection='merc', llcrnrlat=south, urcrnrlat=north,\n",
    "            llcrnrlon=west, urcrnrlon=east, lat_ts=south, resolution='i')\n",
    "x, y = m(df_copy['LONTITUDE'].values, df_copy['LATITUDE'].values)\n",
    "m.hexbin(x, y, gridsize=1000,\n",
    "         bins='log', cmap=cm.YlOrRd_r);"
   ]
  },
  {
   "cell_type": "code",
   "execution_count": 78,
   "metadata": {},
   "outputs": [],
   "source": [
    "df_copy.to_csv(r'D:\\Documents\\ML\\Uber\\collision_20142015.csv')"
   ]
  },
  {
   "cell_type": "code",
   "execution_count": 82,
   "metadata": {},
   "outputs": [
    {
     "ename": "ModuleNotFoundError",
     "evalue": "No module named 'mpl_toolkits.basemap'",
     "output_type": "error",
     "traceback": [
      "\u001b[1;31m---------------------------------------------------------------------------\u001b[0m",
      "\u001b[1;31mModuleNotFoundError\u001b[0m                       Traceback (most recent call last)",
      "\u001b[1;32m<ipython-input-82-8a6fc6c05608>\u001b[0m in \u001b[0;36m<module>\u001b[1;34m()\u001b[0m\n\u001b[0;32m      1\u001b[0m \u001b[1;32mimport\u001b[0m \u001b[0mmpl_toolkits\u001b[0m\u001b[1;33m\u001b[0m\u001b[0m\n\u001b[1;32m----> 2\u001b[1;33m \u001b[1;32mfrom\u001b[0m \u001b[0mmpl_toolkits\u001b[0m\u001b[1;33m.\u001b[0m\u001b[0mbasemap\u001b[0m \u001b[1;32mimport\u001b[0m \u001b[0mBasemap\u001b[0m\u001b[1;33m\u001b[0m\u001b[0m\n\u001b[0m",
      "\u001b[1;31mModuleNotFoundError\u001b[0m: No module named 'mpl_toolkits.basemap'"
     ]
    }
   ],
   "source": [
    "import mpl_toolkits\n",
    "from mpl_toolkits.basemap import Basemap"
   ]
  },
  {
   "cell_type": "code",
   "execution_count": null,
   "metadata": {
    "collapsed": true
   },
   "outputs": [],
   "source": []
  }
 ],
 "metadata": {
  "kernelspec": {
   "display_name": "Python 3",
   "language": "python",
   "name": "python3"
  },
  "language_info": {
   "codemirror_mode": {
    "name": "ipython",
    "version": 3
   },
   "file_extension": ".py",
   "mimetype": "text/x-python",
   "name": "python",
   "nbconvert_exporter": "python",
   "pygments_lexer": "ipython3",
   "version": "3.6.2"
  }
 },
 "nbformat": 4,
 "nbformat_minor": 2
}
